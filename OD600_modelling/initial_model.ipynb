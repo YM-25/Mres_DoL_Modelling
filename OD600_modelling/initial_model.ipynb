{
 "cells": [
  {
   "cell_type": "markdown",
   "metadata": {},
   "source": [
    "- start with ODEs and Michaelis-Menten form of growth curves.\n",
    "- parameter used from [Kim et al 2005](https://doi.org/10.1007/s00253-005-1997-z), and [Reardon et al 2000](https://doi.org/10.1002/1097-0290(20000820)69:4<385::AID-BIT5>3.0.CO;2-Q)"
   ]
  },
  {
   "cell_type": "markdown",
   "metadata": {},
   "source": [
    "### basic models\n",
    "\n",
    "\n",
    "\n",
    "---\n",
    "### key parameters\n",
    "\n"
   ]
  },
  {
   "cell_type": "code",
   "execution_count": null,
   "metadata": {},
   "outputs": [],
   "source": [
    "# packages\n",
    "\n",
    "\n",
    "# parameters\n"
   ]
  }
 ],
 "metadata": {
  "language_info": {
   "name": "python"
  }
 },
 "nbformat": 4,
 "nbformat_minor": 2
}
